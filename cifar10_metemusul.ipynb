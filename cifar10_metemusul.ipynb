{
  "nbformat": 4,
  "nbformat_minor": 0,
  "metadata": {
    "colab": {
      "provenance": [],
      "gpuType": "T4"
    },
    "kernelspec": {
      "name": "python3",
      "display_name": "Python 3"
    },
    "language_info": {
      "name": "python"
    },
    "accelerator": "GPU"
  },
  "cells": [
    {
      "cell_type": "code",
      "execution_count": null,
      "metadata": {
        "id": "tiUUVY4oFq_1"
      },
      "outputs": [],
      "source": [
        "import tensorflow as tf\n",
        "\n",
        "cifar10 = tf.keras.datasets.cifar10"
      ]
    },
    {
      "cell_type": "code",
      "source": [
        "(X_train,y_train),(X_test, y_test) = cifar10.load_data()"
      ],
      "metadata": {
        "id": "V4u-mQwMNH0M",
        "colab": {
          "base_uri": "https://localhost:8080/"
        },
        "outputId": "e1f6fc11-cd55-491d-fd83-65c8af109087"
      },
      "execution_count": null,
      "outputs": [
        {
          "output_type": "stream",
          "name": "stdout",
          "text": [
            "Downloading data from https://www.cs.toronto.edu/~kriz/cifar-10-python.tar.gz\n",
            "170498071/170498071 [==============================] - 2s 0us/step\n"
          ]
        }
      ]
    },
    {
      "cell_type": "code",
      "source": [
        "X_train.shape,X_test.shape"
      ],
      "metadata": {
        "colab": {
          "base_uri": "https://localhost:8080/"
        },
        "id": "WICYdmxvNpB4",
        "outputId": "bf87582d-b7a6-41e0-f4ef-e9c9364ec06f"
      },
      "execution_count": null,
      "outputs": [
        {
          "output_type": "execute_result",
          "data": {
            "text/plain": [
              "((50000, 32, 32, 3), (10000, 32, 32, 3))"
            ]
          },
          "metadata": {},
          "execution_count": 3
        }
      ]
    },
    {
      "cell_type": "markdown",
      "source": [
        "60000 resim, 32x32 boyut, 3 renk kanalı"
      ],
      "metadata": {
        "id": "T8b3UFhnSenK"
      }
    },
    {
      "cell_type": "code",
      "source": [
        "X_train[55]"
      ],
      "metadata": {
        "colab": {
          "base_uri": "https://localhost:8080/"
        },
        "id": "qgH3MMAvNkPV",
        "outputId": "fd27a2b1-5ad0-4e92-980e-09b4a069517d"
      },
      "execution_count": null,
      "outputs": [
        {
          "output_type": "execute_result",
          "data": {
            "text/plain": [
              "array([[[156, 194, 129],\n",
              "        [167, 212, 127],\n",
              "        [169, 215, 129],\n",
              "        ...,\n",
              "        [243, 247, 226],\n",
              "        [230, 235, 206],\n",
              "        [208, 215, 180]],\n",
              "\n",
              "       [[174, 210, 147],\n",
              "        [192, 229, 159],\n",
              "        [172, 204, 163],\n",
              "        ...,\n",
              "        [237, 243, 223],\n",
              "        [213, 221, 200],\n",
              "        [186, 193, 169]],\n",
              "\n",
              "       [[192, 234, 145],\n",
              "        [194, 230, 178],\n",
              "        [174, 201, 194],\n",
              "        ...,\n",
              "        [226, 231, 218],\n",
              "        [198, 208, 186],\n",
              "        [195, 200, 165]],\n",
              "\n",
              "       ...,\n",
              "\n",
              "       [[187, 211, 151],\n",
              "        [211, 234, 180],\n",
              "        [231, 244, 221],\n",
              "        ...,\n",
              "        [210, 204, 199],\n",
              "        [217, 208, 210],\n",
              "        [203, 192, 192]],\n",
              "\n",
              "       [[231, 238, 218],\n",
              "        [220, 236, 209],\n",
              "        [200, 219, 177],\n",
              "        ...,\n",
              "        [183, 170, 153],\n",
              "        [189, 175, 160],\n",
              "        [186, 169, 153]],\n",
              "\n",
              "       [[238, 242, 224],\n",
              "        [238, 247, 232],\n",
              "        [229, 239, 217],\n",
              "        ...,\n",
              "        [141, 126, 106],\n",
              "        [151, 137, 117],\n",
              "        [157, 141, 118]]], dtype=uint8)"
            ]
          },
          "metadata": {},
          "execution_count": 4
        }
      ]
    },
    {
      "cell_type": "code",
      "source": [
        "import matplotlib.pyplot as plt\n",
        "\n",
        "plt.imshow(X_train[595])"
      ],
      "metadata": {
        "colab": {
          "base_uri": "https://localhost:8080/",
          "height": 447
        },
        "id": "4QMqkPKTNYDs",
        "outputId": "97eb41b1-c606-4706-83f4-0ad018ae61dd"
      },
      "execution_count": null,
      "outputs": [
        {
          "output_type": "execute_result",
          "data": {
            "text/plain": [
              "<matplotlib.image.AxesImage at 0x7f5804a5cac0>"
            ]
          },
          "metadata": {},
          "execution_count": 5
        },
        {
          "output_type": "display_data",
          "data": {
            "text/plain": [
              "<Figure size 640x480 with 1 Axes>"
            ],
            "image/png": "[encoded data removed]"
          },
          "metadata": {}
        }
      ]
    },
    {
      "cell_type": "code",
      "source": [
        "classes = [\"airplane\",\"automobile\",\"bird\",\"cat\",\"deer\",\"dog\",\"frog\",\"horse\",\"ship\",\"truck\"]"
      ],
      "metadata": {
        "id": "9Rkf9wKaN5VT"
      },
      "execution_count": null,
      "outputs": []
    },
    {
      "cell_type": "code",
      "source": [
        "import numpy as np\n",
        "\n",
        "np.isnan(X_train).any(),np.isnan(X_test).any()"
      ],
      "metadata": {
        "id": "z6Hfa1iHOTKs",
        "colab": {
          "base_uri": "https://localhost:8080/"
        },
        "outputId": "eff81aaa-41d3-40dd-c9db-a752ada2cb3a"
      },
      "execution_count": null,
      "outputs": [
        {
          "output_type": "execute_result",
          "data": {
            "text/plain": [
              "(False, False)"
            ]
          },
          "metadata": {},
          "execution_count": 7
        }
      ]
    },
    {
      "cell_type": "markdown",
      "source": [
        "# Preprocessing"
      ],
      "metadata": {
        "id": "LZczBXNwSm9S"
      }
    },
    {
      "cell_type": "code",
      "source": [
        "#Normalization\n",
        "X_train = X_train / 255.0\n",
        "X_test = X_test / 255.0"
      ],
      "metadata": {
        "id": "9ChF_2GuSjjK"
      },
      "execution_count": null,
      "outputs": []
    },
    {
      "cell_type": "code",
      "source": [
        "X_train"
      ],
      "metadata": {
        "colab": {
          "base_uri": "https://localhost:8080/"
        },
        "id": "DaW22ZU5TK9r",
        "outputId": "0fe642ad-ba05-4920-8e3d-fc503661a8bb"
      },
      "execution_count": null,
      "outputs": [
        {
          "output_type": "execute_result",
          "data": {
            "text/plain": [
              "array([[[[0.23137255, 0.24313725, 0.24705882],\n",
              "         [0.16862745, 0.18039216, 0.17647059],\n",
              "         [0.19607843, 0.18823529, 0.16862745],\n",
              "         ...,\n",
              "         [0.61960784, 0.51764706, 0.42352941],\n",
              "         [0.59607843, 0.49019608, 0.4       ],\n",
              "         [0.58039216, 0.48627451, 0.40392157]],\n",
              "\n",
              "        [[0.0627451 , 0.07843137, 0.07843137],\n",
              "         [0.        , 0.        , 0.        ],\n",
              "         [0.07058824, 0.03137255, 0.        ],\n",
              "         ...,\n",
              "         [0.48235294, 0.34509804, 0.21568627],\n",
              "         [0.46666667, 0.3254902 , 0.19607843],\n",
              "         [0.47843137, 0.34117647, 0.22352941]],\n",
              "\n",
              "        [[0.09803922, 0.09411765, 0.08235294],\n",
              "         [0.0627451 , 0.02745098, 0.        ],\n",
              "         [0.19215686, 0.10588235, 0.03137255],\n",
              "         ...,\n",
              "         [0.4627451 , 0.32941176, 0.19607843],\n",
              "         [0.47058824, 0.32941176, 0.19607843],\n",
              "         [0.42745098, 0.28627451, 0.16470588]],\n",
              "\n",
              "        ...,\n",
              "\n",
              "        [[0.81568627, 0.66666667, 0.37647059],\n",
              "         [0.78823529, 0.6       , 0.13333333],\n",
              "         [0.77647059, 0.63137255, 0.10196078],\n",
              "         ...,\n",
              "         [0.62745098, 0.52156863, 0.2745098 ],\n",
              "         [0.21960784, 0.12156863, 0.02745098],\n",
              "         [0.20784314, 0.13333333, 0.07843137]],\n",
              "\n",
              "        [[0.70588235, 0.54509804, 0.37647059],\n",
              "         [0.67843137, 0.48235294, 0.16470588],\n",
              "         [0.72941176, 0.56470588, 0.11764706],\n",
              "         ...,\n",
              "         [0.72156863, 0.58039216, 0.36862745],\n",
              "         [0.38039216, 0.24313725, 0.13333333],\n",
              "         [0.3254902 , 0.20784314, 0.13333333]],\n",
              "\n",
              "        [[0.69411765, 0.56470588, 0.45490196],\n",
              "         [0.65882353, 0.50588235, 0.36862745],\n",
              "         [0.70196078, 0.55686275, 0.34117647],\n",
              "         ...,\n",
              "         [0.84705882, 0.72156863, 0.54901961],\n",
              "         [0.59215686, 0.4627451 , 0.32941176],\n",
              "         [0.48235294, 0.36078431, 0.28235294]]],\n",
              "\n",
              "\n",
              "       [[[0.60392157, 0.69411765, 0.73333333],\n",
              "         [0.49411765, 0.5372549 , 0.53333333],\n",
              "         [0.41176471, 0.40784314, 0.37254902],\n",
              "         ...,\n",
              "         [0.35686275, 0.37254902, 0.27843137],\n",
              "         [0.34117647, 0.35294118, 0.27843137],\n",
              "         [0.30980392, 0.31764706, 0.2745098 ]],\n",
              "\n",
              "        [[0.54901961, 0.62745098, 0.6627451 ],\n",
              "         [0.56862745, 0.6       , 0.60392157],\n",
              "         [0.49019608, 0.49019608, 0.4627451 ],\n",
              "         ...,\n",
              "         [0.37647059, 0.38823529, 0.30588235],\n",
              "         [0.30196078, 0.31372549, 0.24313725],\n",
              "         [0.27843137, 0.28627451, 0.23921569]],\n",
              "\n",
              "        [[0.54901961, 0.60784314, 0.64313725],\n",
              "         [0.54509804, 0.57254902, 0.58431373],\n",
              "         [0.45098039, 0.45098039, 0.43921569],\n",
              "         ...,\n",
              "         [0.30980392, 0.32156863, 0.25098039],\n",
              "         [0.26666667, 0.2745098 , 0.21568627],\n",
              "         [0.2627451 , 0.27058824, 0.21568627]],\n",
              "\n",
              "        ...,\n",
              "\n",
              "        [[0.68627451, 0.65490196, 0.65098039],\n",
              "         [0.61176471, 0.60392157, 0.62745098],\n",
              "         [0.60392157, 0.62745098, 0.66666667],\n",
              "         ...,\n",
              "         [0.16470588, 0.13333333, 0.14117647],\n",
              "         [0.23921569, 0.20784314, 0.22352941],\n",
              "         [0.36470588, 0.3254902 , 0.35686275]],\n",
              "\n",
              "        [[0.64705882, 0.60392157, 0.50196078],\n",
              "         [0.61176471, 0.59607843, 0.50980392],\n",
              "         [0.62352941, 0.63137255, 0.55686275],\n",
              "         ...,\n",
              "         [0.40392157, 0.36470588, 0.37647059],\n",
              "         [0.48235294, 0.44705882, 0.47058824],\n",
              "         [0.51372549, 0.4745098 , 0.51372549]],\n",
              "\n",
              "        [[0.63921569, 0.58039216, 0.47058824],\n",
              "         [0.61960784, 0.58039216, 0.47843137],\n",
              "         [0.63921569, 0.61176471, 0.52156863],\n",
              "         ...,\n",
              "         [0.56078431, 0.52156863, 0.54509804],\n",
              "         [0.56078431, 0.5254902 , 0.55686275],\n",
              "         [0.56078431, 0.52156863, 0.56470588]]],\n",
              "\n",
              "\n",
              "       [[[1.        , 1.        , 1.        ],\n",
              "         [0.99215686, 0.99215686, 0.99215686],\n",
              "         [0.99215686, 0.99215686, 0.99215686],\n",
              "         ...,\n",
              "         [0.99215686, 0.99215686, 0.99215686],\n",
              "         [0.99215686, 0.99215686, 0.99215686],\n",
              "         [0.99215686, 0.99215686, 0.99215686]],\n",
              "\n",
              "        [[1.        , 1.        , 1.        ],\n",
              "         [1.        , 1.        , 1.        ],\n",
              "         [1.        , 1.        , 1.        ],\n",
              "         ...,\n",
              "         [1.        , 1.        , 1.        ],\n",
              "         [1.        , 1.        , 1.        ],\n",
              "         [1.        , 1.        , 1.        ]],\n",
              "\n",
              "        [[1.        , 1.        , 1.        ],\n",
              "         [0.99607843, 0.99607843, 0.99607843],\n",
              "         [0.99607843, 0.99607843, 0.99607843],\n",
              "         ...,\n",
              "         [0.99607843, 0.99607843, 0.99607843],\n",
              "         [0.99607843, 0.99607843, 0.99607843],\n",
              "         [0.99607843, 0.99607843, 0.99607843]],\n",
              "\n",
              "        ...,\n",
              "\n",
              "        [[0.44313725, 0.47058824, 0.43921569],\n",
              "         [0.43529412, 0.4627451 , 0.43529412],\n",
              "         [0.41176471, 0.43921569, 0.41568627],\n",
              "         ...,\n",
              "         [0.28235294, 0.31764706, 0.31372549],\n",
              "         [0.28235294, 0.31372549, 0.30980392],\n",
              "         [0.28235294, 0.31372549, 0.30980392]],\n",
              "\n",
              "        [[0.43529412, 0.4627451 , 0.43137255],\n",
              "         [0.40784314, 0.43529412, 0.40784314],\n",
              "         [0.38823529, 0.41568627, 0.38431373],\n",
              "         ...,\n",
              "         [0.26666667, 0.29411765, 0.28627451],\n",
              "         [0.2745098 , 0.29803922, 0.29411765],\n",
              "         [0.30588235, 0.32941176, 0.32156863]],\n",
              "\n",
              "        [[0.41568627, 0.44313725, 0.41176471],\n",
              "         [0.38823529, 0.41568627, 0.38431373],\n",
              "         [0.37254902, 0.4       , 0.36862745],\n",
              "         ...,\n",
              "         [0.30588235, 0.33333333, 0.3254902 ],\n",
              "         [0.30980392, 0.33333333, 0.3254902 ],\n",
              "         [0.31372549, 0.3372549 , 0.32941176]]],\n",
              "\n",
              "\n",
              "       ...,\n",
              "\n",
              "\n",
              "       [[[0.1372549 , 0.69803922, 0.92156863],\n",
              "         [0.15686275, 0.69019608, 0.9372549 ],\n",
              "         [0.16470588, 0.69019608, 0.94509804],\n",
              "         ...,\n",
              "         [0.38823529, 0.69411765, 0.85882353],\n",
              "         [0.30980392, 0.57647059, 0.77254902],\n",
              "         [0.34901961, 0.58039216, 0.74117647]],\n",
              "\n",
              "        [[0.22352941, 0.71372549, 0.91764706],\n",
              "         [0.17254902, 0.72156863, 0.98039216],\n",
              "         [0.19607843, 0.71764706, 0.94117647],\n",
              "         ...,\n",
              "         [0.61176471, 0.71372549, 0.78431373],\n",
              "         [0.55294118, 0.69411765, 0.80784314],\n",
              "         [0.45490196, 0.58431373, 0.68627451]],\n",
              "\n",
              "        [[0.38431373, 0.77254902, 0.92941176],\n",
              "         [0.25098039, 0.74117647, 0.98823529],\n",
              "         [0.27058824, 0.75294118, 0.96078431],\n",
              "         ...,\n",
              "         [0.7372549 , 0.76470588, 0.80784314],\n",
              "         [0.46666667, 0.52941176, 0.57647059],\n",
              "         [0.23921569, 0.30980392, 0.35294118]],\n",
              "\n",
              "        ...,\n",
              "\n",
              "        [[0.28627451, 0.30980392, 0.30196078],\n",
              "         [0.20784314, 0.24705882, 0.26666667],\n",
              "         [0.21176471, 0.26666667, 0.31372549],\n",
              "         ...,\n",
              "         [0.06666667, 0.15686275, 0.25098039],\n",
              "         [0.08235294, 0.14117647, 0.2       ],\n",
              "         [0.12941176, 0.18823529, 0.19215686]],\n",
              "\n",
              "        [[0.23921569, 0.26666667, 0.29411765],\n",
              "         [0.21568627, 0.2745098 , 0.3372549 ],\n",
              "         [0.22352941, 0.30980392, 0.40392157],\n",
              "         ...,\n",
              "         [0.09411765, 0.18823529, 0.28235294],\n",
              "         [0.06666667, 0.1372549 , 0.20784314],\n",
              "         [0.02745098, 0.09019608, 0.1254902 ]],\n",
              "\n",
              "        [[0.17254902, 0.21960784, 0.28627451],\n",
              "         [0.18039216, 0.25882353, 0.34509804],\n",
              "         [0.19215686, 0.30196078, 0.41176471],\n",
              "         ...,\n",
              "         [0.10588235, 0.20392157, 0.30196078],\n",
              "         [0.08235294, 0.16862745, 0.25882353],\n",
              "         [0.04705882, 0.12156863, 0.19607843]]],\n",
              "\n",
              "\n",
              "       [[[0.74117647, 0.82745098, 0.94117647],\n",
              "         [0.72941176, 0.81568627, 0.9254902 ],\n",
              "         [0.7254902 , 0.81176471, 0.92156863],\n",
              "         ...,\n",
              "         [0.68627451, 0.76470588, 0.87843137],\n",
              "         [0.6745098 , 0.76078431, 0.87058824],\n",
              "         [0.6627451 , 0.76078431, 0.8627451 ]],\n",
              "\n",
              "        [[0.76078431, 0.82352941, 0.9372549 ],\n",
              "         [0.74901961, 0.81176471, 0.9254902 ],\n",
              "         [0.74509804, 0.80784314, 0.92156863],\n",
              "         ...,\n",
              "         [0.67843137, 0.75294118, 0.8627451 ],\n",
              "         [0.67058824, 0.74901961, 0.85490196],\n",
              "         [0.65490196, 0.74509804, 0.84705882]],\n",
              "\n",
              "        [[0.81568627, 0.85882353, 0.95686275],\n",
              "         [0.80392157, 0.84705882, 0.94117647],\n",
              "         [0.8       , 0.84313725, 0.9372549 ],\n",
              "         ...,\n",
              "         [0.68627451, 0.74901961, 0.85098039],\n",
              "         [0.6745098 , 0.74509804, 0.84705882],\n",
              "         [0.6627451 , 0.74901961, 0.84313725]],\n",
              "\n",
              "        ...,\n",
              "\n",
              "        [[0.81176471, 0.78039216, 0.70980392],\n",
              "         [0.79607843, 0.76470588, 0.68627451],\n",
              "         [0.79607843, 0.76862745, 0.67843137],\n",
              "         ...,\n",
              "         [0.52941176, 0.51764706, 0.49803922],\n",
              "         [0.63529412, 0.61960784, 0.58823529],\n",
              "         [0.65882353, 0.63921569, 0.59215686]],\n",
              "\n",
              "        [[0.77647059, 0.74509804, 0.66666667],\n",
              "         [0.74117647, 0.70980392, 0.62352941],\n",
              "         [0.70588235, 0.6745098 , 0.57647059],\n",
              "         ...,\n",
              "         [0.69803922, 0.67058824, 0.62745098],\n",
              "         [0.68627451, 0.6627451 , 0.61176471],\n",
              "         [0.68627451, 0.6627451 , 0.60392157]],\n",
              "\n",
              "        [[0.77647059, 0.74117647, 0.67843137],\n",
              "         [0.74117647, 0.70980392, 0.63529412],\n",
              "         [0.69803922, 0.66666667, 0.58431373],\n",
              "         ...,\n",
              "         [0.76470588, 0.72156863, 0.6627451 ],\n",
              "         [0.76862745, 0.74117647, 0.67058824],\n",
              "         [0.76470588, 0.74509804, 0.67058824]]],\n",
              "\n",
              "\n",
              "       [[[0.89803922, 0.89803922, 0.9372549 ],\n",
              "         [0.9254902 , 0.92941176, 0.96862745],\n",
              "         [0.91764706, 0.9254902 , 0.96862745],\n",
              "         ...,\n",
              "         [0.85098039, 0.85882353, 0.91372549],\n",
              "         [0.86666667, 0.8745098 , 0.91764706],\n",
              "         [0.87058824, 0.8745098 , 0.91372549]],\n",
              "\n",
              "        [[0.87058824, 0.86666667, 0.89803922],\n",
              "         [0.9372549 , 0.9372549 , 0.97647059],\n",
              "         [0.91372549, 0.91764706, 0.96470588],\n",
              "         ...,\n",
              "         [0.8745098 , 0.8745098 , 0.9254902 ],\n",
              "         [0.89019608, 0.89411765, 0.93333333],\n",
              "         [0.82352941, 0.82745098, 0.8627451 ]],\n",
              "\n",
              "        [[0.83529412, 0.80784314, 0.82745098],\n",
              "         [0.91764706, 0.90980392, 0.9372549 ],\n",
              "         [0.90588235, 0.91372549, 0.95686275],\n",
              "         ...,\n",
              "         [0.8627451 , 0.8627451 , 0.90980392],\n",
              "         [0.8627451 , 0.85882353, 0.90980392],\n",
              "         [0.79215686, 0.79607843, 0.84313725]],\n",
              "\n",
              "        ...,\n",
              "\n",
              "        [[0.58823529, 0.56078431, 0.52941176],\n",
              "         [0.54901961, 0.52941176, 0.49803922],\n",
              "         [0.51764706, 0.49803922, 0.47058824],\n",
              "         ...,\n",
              "         [0.87843137, 0.87058824, 0.85490196],\n",
              "         [0.90196078, 0.89411765, 0.88235294],\n",
              "         [0.94509804, 0.94509804, 0.93333333]],\n",
              "\n",
              "        [[0.5372549 , 0.51764706, 0.49411765],\n",
              "         [0.50980392, 0.49803922, 0.47058824],\n",
              "         [0.49019608, 0.4745098 , 0.45098039],\n",
              "         ...,\n",
              "         [0.70980392, 0.70588235, 0.69803922],\n",
              "         [0.79215686, 0.78823529, 0.77647059],\n",
              "         [0.83137255, 0.82745098, 0.81176471]],\n",
              "\n",
              "        [[0.47843137, 0.46666667, 0.44705882],\n",
              "         [0.4627451 , 0.45490196, 0.43137255],\n",
              "         [0.47058824, 0.45490196, 0.43529412],\n",
              "         ...,\n",
              "         [0.70196078, 0.69411765, 0.67843137],\n",
              "         [0.64313725, 0.64313725, 0.63529412],\n",
              "         [0.63921569, 0.63921569, 0.63137255]]]])"
            ]
          },
          "metadata": {},
          "execution_count": 9
        }
      ]
    },
    {
      "cell_type": "code",
      "source": [
        "from sklearn.preprocessing import OneHotEncoder"
      ],
      "metadata": {
        "id": "_pH98c2dTM1K"
      },
      "execution_count": null,
      "outputs": []
    },
    {
      "cell_type": "code",
      "source": [
        "one_hot_encoder = OneHotEncoder(sparse = False)\n",
        "y_train = one_hot_encoder.fit_transform(y_train)\n",
        "y_test = one_hot_encoder.fit_transform(y_test)"
      ],
      "metadata": {
        "colab": {
          "base_uri": "https://localhost:8080/"
        },
        "id": "-yfA0dq5Tb-N",
        "outputId": "b611a29f-c6d5-4523-9209-a798239ff442"
      },
      "execution_count": null,
      "outputs": [
        {
          "output_type": "stream",
          "name": "stderr",
          "text": [
            "/usr/local/lib/python3.10/dist-packages/sklearn/preprocessing/_encoders.py:868: FutureWarning: `sparse` was renamed to `sparse_output` in version 1.2 and will be removed in 1.4. `sparse_output` is ignored unless you leave `sparse` to its default value.\n",
            "  warnings.warn(\n",
            "/usr/local/lib/python3.10/dist-packages/sklearn/preprocessing/_encoders.py:868: FutureWarning: `sparse` was renamed to `sparse_output` in version 1.2 and will be removed in 1.4. `sparse_output` is ignored unless you leave `sparse` to its default value.\n",
            "  warnings.warn(\n"
          ]
        }
      ]
    },
    {
      "cell_type": "code",
      "source": [
        "print(y_train[2225])"
      ],
      "metadata": {
        "colab": {
          "base_uri": "https://localhost:8080/"
        },
        "id": "S8mabSrwUkZJ",
        "outputId": "cb5c8586-99c4-4a4c-f4eb-8ba6ffb59c33"
      },
      "execution_count": null,
      "outputs": [
        {
          "output_type": "stream",
          "name": "stdout",
          "text": [
            "[0. 0. 0. 0. 1. 0. 0. 0. 0. 0.]\n"
          ]
        }
      ]
    },
    {
      "cell_type": "code",
      "source": [
        "print(y_test[90])"
      ],
      "metadata": {
        "colab": {
          "base_uri": "https://localhost:8080/"
        },
        "id": "InPjuZpOUxfi",
        "outputId": "66ace92e-22aa-40af-9f7b-e9a07d405c8f"
      },
      "execution_count": null,
      "outputs": [
        {
          "output_type": "stream",
          "name": "stdout",
          "text": [
            "[1. 0. 0. 0. 0. 0. 0. 0. 0. 0.]\n"
          ]
        }
      ]
    },
    {
      "cell_type": "code",
      "source": [
        "X_train.shape"
      ],
      "metadata": {
        "colab": {
          "base_uri": "https://localhost:8080/"
        },
        "id": "7RwUhoCOgEn7",
        "outputId": "9b28dd8c-1964-4766-81d4-082f4ee631dd"
      },
      "execution_count": null,
      "outputs": [
        {
          "output_type": "execute_result",
          "data": {
            "text/plain": [
              "(50000, 32, 32, 3)"
            ]
          },
          "metadata": {},
          "execution_count": 14
        }
      ]
    },
    {
      "cell_type": "code",
      "source": [
        "y_test.shape"
      ],
      "metadata": {
        "colab": {
          "base_uri": "https://localhost:8080/"
        },
        "id": "rNZ4OImdgIN0",
        "outputId": "fad01322-d6f4-410e-b2d9-b2eabc824702"
      },
      "execution_count": null,
      "outputs": [
        {
          "output_type": "execute_result",
          "data": {
            "text/plain": [
              "(10000, 10)"
            ]
          },
          "metadata": {},
          "execution_count": 15
        }
      ]
    },
    {
      "cell_type": "markdown",
      "source": [
        "# CNN (Convolutional Neural Networks)"
      ],
      "metadata": {
        "id": "CcqhANw_VM4S"
      }
    },
    {
      "cell_type": "code",
      "source": [
        "batch_size = 32 #50000 veri 32,32,32,32 -> batch_size 50000/32 = 1563 tane 32 li paket oluşturuyor\n",
        "num_classess = len(classes)\n",
        "epoch = 55 # ağırlık güncellemesi yapıyor 50 tane\n",
        "input_size = (32,32,3)"
      ],
      "metadata": {
        "id": "a1S4UYcRVLki"
      },
      "execution_count": null,
      "outputs": []
    },
    {
      "cell_type": "code",
      "source": [
        "model = tf.keras.models.Sequential([\n",
        "    tf.keras.layers.Conv2D(32, 3, input_shape = input_size, activation = \"relu\"),\n",
        "    tf.keras.layers.Conv2D(32, 3, activation = \"relu\"),\n",
        "    tf.keras.layers.MaxPool2D(pool_size = (2,2)),\n",
        "    tf.keras.layers.Dropout(0.25),\n",
        "\n",
        "    tf.keras.layers.Conv2D(64, 3,padding=\"same\" , activation = \"relu\"),\n",
        "    tf.keras.layers.Conv2D(64, 3, activation = \"relu\"),\n",
        "    tf.keras.layers.MaxPool2D(pool_size = (2,2)),\n",
        "    tf.keras.layers.Dropout(0.25),\n",
        "\n",
        "    tf.keras.layers.Conv2D(128, 3,padding=\"same\", activation = \"relu\"),\n",
        "    tf.keras.layers.Conv2D(128, 3, activation = \"relu\"),\n",
        "    tf.keras.layers.MaxPool2D(pool_size = (2,2)),\n",
        "    tf.keras.layers.Dropout(0.25),\n",
        "\n",
        "    tf.keras.layers.Flatten(),\n",
        "    tf.keras.layers.Dense(256,activation=\"relu\"),\n",
        "    tf.keras.layers.Dropout(0.5),\n",
        "    tf.keras.layers.Dense(num_classess,activation=\"softmax\"),\n",
        "])"
      ],
      "metadata": {
        "id": "VDDRfHDOVgrr"
      },
      "execution_count": null,
      "outputs": []
    },
    {
      "cell_type": "code",
      "source": [
        "model.compile(optimizer = \"adam\", loss = \"CategoricalCrossentropy\",metrics = [\"accuracy\"])"
      ],
      "metadata": {
        "id": "0mHlItldeQdB"
      },
      "execution_count": null,
      "outputs": []
    },
    {
      "cell_type": "code",
      "source": [
        "history = model.fit(X_train,y_train,batch_size = batch_size, epochs= epoch)"
      ],
      "metadata": {
        "colab": {
          "base_uri": "https://localhost:8080/"
        },
        "id": "Jt-0LMyqfj2A",
        "outputId": "703574b8-7c90-49e2-de96-23abf486cb16"
      },
      "execution_count": null,
      "outputs": [
        {
          "output_type": "stream",
          "name": "stdout",
          "text": [
            "Epoch 1/55\n",
            "1563/1563 [==============================] - 27s 7ms/step - loss: 1.7575 - accuracy: 0.3307\n",
            "Epoch 2/55\n",
            "1563/1563 [==============================] - 11s 7ms/step - loss: 1.2832 - accuracy: 0.5395\n",
            "Epoch 3/55\n",
            "1563/1563 [==============================] - 10s 6ms/step - loss: 1.0997 - accuracy: 0.6128\n",
            "Epoch 4/55\n",
            "1563/1563 [==============================] - 10s 6ms/step - loss: 0.9930 - accuracy: 0.6530\n",
            "Epoch 5/55\n",
            "1563/1563 [==============================] - 10s 6ms/step - loss: 0.9222 - accuracy: 0.6785\n",
            "Epoch 6/55\n",
            "1563/1563 [==============================] - 12s 8ms/step - loss: 0.8677 - accuracy: 0.6994\n",
            "Epoch 7/55\n",
            "1563/1563 [==============================] - 10s 6ms/step - loss: 0.8364 - accuracy: 0.7113\n",
            "Epoch 8/55\n",
            "1563/1563 [==============================] - 10s 6ms/step - loss: 0.8037 - accuracy: 0.7245\n",
            "Epoch 9/55\n",
            "1563/1563 [==============================] - 10s 6ms/step - loss: 0.7793 - accuracy: 0.7313\n",
            "Epoch 10/55\n",
            "1563/1563 [==============================] - 10s 6ms/step - loss: 0.7642 - accuracy: 0.7355\n",
            "Epoch 11/55\n",
            "1563/1563 [==============================] - 10s 6ms/step - loss: 0.7440 - accuracy: 0.7456\n",
            "Epoch 12/55\n",
            "1563/1563 [==============================] - 10s 6ms/step - loss: 0.7322 - accuracy: 0.7498\n",
            "Epoch 13/55\n",
            "1563/1563 [==============================] - 10s 6ms/step - loss: 0.7198 - accuracy: 0.7525\n",
            "Epoch 14/55\n",
            "1563/1563 [==============================] - 10s 6ms/step - loss: 0.7036 - accuracy: 0.7596\n",
            "Epoch 15/55\n",
            "1563/1563 [==============================] - 10s 6ms/step - loss: 0.7017 - accuracy: 0.7604\n",
            "Epoch 16/55\n",
            "1563/1563 [==============================] - 10s 6ms/step - loss: 0.6876 - accuracy: 0.7659\n",
            "Epoch 17/55\n",
            "1563/1563 [==============================] - 10s 6ms/step - loss: 0.6797 - accuracy: 0.7689\n",
            "Epoch 18/55\n",
            "1563/1563 [==============================] - 10s 6ms/step - loss: 0.6717 - accuracy: 0.7693\n",
            "Epoch 19/55\n",
            "1563/1563 [==============================] - 10s 6ms/step - loss: 0.6698 - accuracy: 0.7710\n",
            "Epoch 20/55\n",
            "1563/1563 [==============================] - 10s 6ms/step - loss: 0.6660 - accuracy: 0.7718\n",
            "Epoch 21/55\n",
            "1563/1563 [==============================] - 10s 6ms/step - loss: 0.6540 - accuracy: 0.7769\n",
            "Epoch 22/55\n",
            "1563/1563 [==============================] - 10s 6ms/step - loss: 0.6566 - accuracy: 0.7757\n",
            "Epoch 23/55\n",
            "1563/1563 [==============================] - 10s 7ms/step - loss: 0.6438 - accuracy: 0.7811\n",
            "Epoch 24/55\n",
            "1563/1563 [==============================] - 10s 7ms/step - loss: 0.6440 - accuracy: 0.7815\n",
            "Epoch 25/55\n",
            "1563/1563 [==============================] - 10s 6ms/step - loss: 0.6370 - accuracy: 0.7818\n",
            "Epoch 26/55\n",
            "1563/1563 [==============================] - 9s 6ms/step - loss: 0.6310 - accuracy: 0.7856\n",
            "Epoch 27/55\n",
            "1563/1563 [==============================] - 10s 6ms/step - loss: 0.6321 - accuracy: 0.7854\n",
            "Epoch 28/55\n",
            "1563/1563 [==============================] - 10s 6ms/step - loss: 0.6250 - accuracy: 0.7870\n",
            "Epoch 29/55\n",
            "1563/1563 [==============================] - 10s 6ms/step - loss: 0.6144 - accuracy: 0.7901\n",
            "Epoch 30/55\n",
            "1563/1563 [==============================] - 10s 6ms/step - loss: 0.6201 - accuracy: 0.7873\n",
            "Epoch 31/55\n",
            "1563/1563 [==============================] - 9s 6ms/step - loss: 0.6217 - accuracy: 0.7898\n",
            "Epoch 32/55\n",
            "1563/1563 [==============================] - 10s 6ms/step - loss: 0.6200 - accuracy: 0.7896\n",
            "Epoch 33/55\n",
            "1563/1563 [==============================] - 10s 6ms/step - loss: 0.6123 - accuracy: 0.7926\n",
            "Epoch 34/55\n",
            "1563/1563 [==============================] - 10s 6ms/step - loss: 0.6060 - accuracy: 0.7959\n",
            "Epoch 35/55\n",
            "1563/1563 [==============================] - 10s 6ms/step - loss: 0.6075 - accuracy: 0.7955\n",
            "Epoch 36/55\n",
            "1563/1563 [==============================] - 10s 6ms/step - loss: 0.6110 - accuracy: 0.7935\n",
            "Epoch 37/55\n",
            "1563/1563 [==============================] - 10s 6ms/step - loss: 0.6012 - accuracy: 0.7944\n",
            "Epoch 38/55\n",
            "1563/1563 [==============================] - 10s 6ms/step - loss: 0.6042 - accuracy: 0.7947\n",
            "Epoch 39/55\n",
            "1563/1563 [==============================] - 10s 6ms/step - loss: 0.6005 - accuracy: 0.7954\n",
            "Epoch 40/55\n",
            "1563/1563 [==============================] - 10s 6ms/step - loss: 0.6014 - accuracy: 0.7967\n",
            "Epoch 41/55\n",
            "1563/1563 [==============================] - 10s 6ms/step - loss: 0.6071 - accuracy: 0.7940\n",
            "Epoch 42/55\n",
            "1563/1563 [==============================] - 10s 6ms/step - loss: 0.5988 - accuracy: 0.7966\n",
            "Epoch 43/55\n",
            "1563/1563 [==============================] - 10s 6ms/step - loss: 0.5876 - accuracy: 0.8016\n",
            "Epoch 44/55\n",
            "1563/1563 [==============================] - 10s 6ms/step - loss: 0.5998 - accuracy: 0.7981\n",
            "Epoch 45/55\n",
            "1563/1563 [==============================] - 11s 7ms/step - loss: 0.5939 - accuracy: 0.8023\n",
            "Epoch 46/55\n",
            "1563/1563 [==============================] - 11s 7ms/step - loss: 0.5875 - accuracy: 0.8014\n",
            "Epoch 47/55\n",
            "1563/1563 [==============================] - 18s 11ms/step - loss: 0.5901 - accuracy: 0.8016\n",
            "Epoch 48/55\n",
            "1563/1563 [==============================] - 11s 7ms/step - loss: 0.5929 - accuracy: 0.7995\n",
            "Epoch 49/55\n",
            "1563/1563 [==============================] - 10s 6ms/step - loss: 0.5825 - accuracy: 0.8032\n",
            "Epoch 50/55\n",
            "1563/1563 [==============================] - 10s 6ms/step - loss: 0.5914 - accuracy: 0.7989\n",
            "Epoch 51/55\n",
            "1563/1563 [==============================] - 9s 6ms/step - loss: 0.5923 - accuracy: 0.7999\n",
            "Epoch 52/55\n",
            "1563/1563 [==============================] - 10s 6ms/step - loss: 0.5856 - accuracy: 0.8042\n",
            "Epoch 53/55\n",
            "1563/1563 [==============================] - 10s 6ms/step - loss: 0.5854 - accuracy: 0.8059\n",
            "Epoch 54/55\n",
            "1563/1563 [==============================] - 10s 6ms/step - loss: 0.5864 - accuracy: 0.8034\n",
            "Epoch 55/55\n",
            "1563/1563 [==============================] - 10s 7ms/step - loss: 0.5860 - accuracy: 0.8038\n"
          ]
        }
      ]
    },
    {
      "cell_type": "code",
      "source": [
        "fig, ax = plt.subplots(2,1)\n",
        "ax[0].plot(history.history['loss'], color='blue', label=\"Training Loss\")\n",
        "legend = ax[0].legend(loc='best', shadow=True)\n",
        "\n",
        "ax[1].plot(history.history['accuracy'], color='c', label=\"Training Accuracy\")\n",
        "legend = ax[1].legend(loc='best', shadow=True)"
      ],
      "metadata": {
        "colab": {
          "base_uri": "https://localhost:8080/",
          "height": 430
        },
        "id": "f4iEUZyMf8Ty",
        "outputId": "0f193ded-d102-416e-e4de-615e21315b3d"
      },
      "execution_count": null,
      "outputs": [
        {
          "output_type": "display_data",
          "data": {
            "text/plain": [
              "<Figure size 640x480 with 2 Axes>"
            ],
            "image/png": "[encoded data removed]"
          },
          "metadata": {}
        }
      ]
    },
    {
      "cell_type": "code",
      "source": [
        "test_loss, test_acc = model.evaluate(X_test, y_test)"
      ],
      "metadata": {
        "colab": {
          "base_uri": "https://localhost:8080/"
        },
        "id": "KcJpopK7iYIq",
        "outputId": "3f102b8f-5127-4c86-c168-81f7c30bf7a5"
      },
      "execution_count": null,
      "outputs": [
        {
          "output_type": "stream",
          "name": "stdout",
          "text": [
            "313/313 [==============================] - 1s 4ms/step - loss: 0.6372 - accuracy: 0.7965\n"
          ]
        }
      ]
    },
    {
      "cell_type": "code",
      "source": [
        "y_pred = model.predict(X_test)\n",
        "y_pred_classes = np.argmax(y_pred,axis = 1)\n",
        "y_true = np.argmax(y_test,axis = 1)\n",
        "confusion_mtx = tf.math.confusion_matrix(y_true, y_pred_classes)"
      ],
      "metadata": {
        "colab": {
          "base_uri": "https://localhost:8080/"
        },
        "id": "LqqKXmpviaa5",
        "outputId": "6aa912ce-1b9c-48bd-f3a9-244a2f6a6c8f"
      },
      "execution_count": null,
      "outputs": [
        {
          "output_type": "stream",
          "name": "stdout",
          "text": [
            "313/313 [==============================] - 1s 2ms/step\n"
          ]
        }
      ]
    },
    {
      "cell_type": "code",
      "source": [
        "import seaborn as sns\n",
        "plt.figure(figsize=(12, 9))\n",
        "c = sns.heatmap(confusion_mtx, annot=True, fmt='g')\n",
        "c.set(xticklabels=classes, yticklabels=classes)"
      ],
      "metadata": {
        "colab": {
          "base_uri": "https://localhost:8080/",
          "height": 1000
        },
        "id": "Wfkyp-ASiciR",
        "outputId": "50a1abbb-22f8-4d74-e77b-9f32e4ffd84a"
      },
      "execution_count": null,
      "outputs": [
        {
          "output_type": "execute_result",
          "data": {
            "text/plain": [
              "[[Text(0.5, 0, 'airplane'),\n",
              "  Text(1.5, 0, 'automobile'),\n",
              "  Text(2.5, 0, 'bird'),\n",
              "  Text(3.5, 0, 'cat'),\n",
              "  Text(4.5, 0, 'deer'),\n",
              "  Text(5.5, 0, 'dog'),\n",
              "  Text(6.5, 0, 'frog'),\n",
              "  Text(7.5, 0, 'horse'),\n",
              "  Text(8.5, 0, 'ship'),\n",
              "  Text(9.5, 0, 'truck')],\n",
              " [Text(0, 0.5, 'airplane'),\n",
              "  Text(0, 1.5, 'automobile'),\n",
              "  Text(0, 2.5, 'bird'),\n",
              "  Text(0, 3.5, 'cat'),\n",
              "  Text(0, 4.5, 'deer'),\n",
              "  Text(0, 5.5, 'dog'),\n",
              "  Text(0, 6.5, 'frog'),\n",
              "  Text(0, 7.5, 'horse'),\n",
              "  Text(0, 8.5, 'ship'),\n",
              "  Text(0, 9.5, 'truck')]]"
            ]
          },
          "metadata": {},
          "execution_count": 23
        },
        {
          "output_type": "display_data",
          "data": {
            "text/plain": [
              "<Figure size 1200x900 with 2 Axes>"
            ],
            "image/png": "[encoded data removed]"
          },
          "metadata": {}
        }
      ]
    }
  ]
}